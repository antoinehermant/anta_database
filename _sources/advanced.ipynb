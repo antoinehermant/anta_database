{
 "cells": [
  {
   "cell_type": "markdown",
   "id": "0fb4c5e7",
   "metadata": {},
   "source": [
    "# Advanced: Managing the database\n",
    "\n",
    "## Reindexing\n",
    "\n",
    "You may want for example to update the age of the layers in a particular dataset. For this, you just need to modify the ages in the file called ‘IRH_ages.tab’ located under a dataset directory. Then, reindex with the IndexDatabase class:"
   ]
  },
  {
   "cell_type": "code",
   "execution_count": null,
   "id": "1833e1ae",
   "metadata": {},
   "outputs": [],
   "tags": ["remove-output"],
   "source": [
    "from anta_database import IndexDatabase\n",
    "\n",
    "db_path = '/home/anthe/documents/data/isochrones/AntADatabase/' \n",
    "indexing = IndexDatabase(db_path)\n",
    "indexing.index_database() "
   ]
  },
  {
   "cell_type": "markdown",
   "id": "a0baf4ac",
   "metadata": {},
   "source": [
    "## (Re)compile the database\n",
    "\n",
    "You can (re)compile the database, if for example you modify some data in the raw directories or if you add a dataset. For this, make sure to follow the structure: "
   ]
  },
  {
   "cell_type": "code",
   "execution_count": null,
   "id": "fab54d04",
   "metadata": {
    "vscode": {
     "languageId": "shellscript"
    }
   },
   "outputs": [],
   "tags": ["remove-output"],
   "source": [
    "AntADatabase/\n",
    "├── AntADatabase.db\n",
    "├── database_index.csv #List of directories to index: Author_YYYY,Author et al. YYYY,doi\n",
    "├── Author_YYYY\n",
    "    ├── IRH_ages.tab #IRH file names without .ext followed by there respective age in years\n",
    "    ├── original_new_column_names.csv #first row: names of columns to keep from raw files, second row: how the columns should be renamed\n",
    "    ├── raw/\n",
    "    └── pkl/"
   ]
  },
  {
   "cell_type": "markdown",
   "id": "defe47a3",
   "metadata": {},
   "source": [
    "Then use the CompileDatabase class to compile the database:"
   ]
  },
  {
   "cell_type": "code",
   "execution_count": null,
   "id": "52e60511",
   "metadata": {},
   "outputs": [],
   "source": [
    "from anta_database import CompileDatabase\n",
    "\n",
    "dir_path_list = [ # list of the dataset subdirectories to compile\n",
    "    './Winter_2018',\n",
    "    './Sanderson_2024',\n",
    "    './Franke_2025',\n",
    "    './Cavitte_2020',\n",
    "    './Beem_2021',\n",
    "]\n",
    "\n",
    "compiler = CompileDatabase(dir_path_list)\n",
    "compiler.compile()"
   ]
  },
  {
   "cell_type": "markdown",
   "id": "eb85da9e",
   "metadata": {},
   "source": [
    "Then reindex (see above). By default, it assumes that the files in raw/ are sorted by IRH (one file = one layer and multiple traces). If the files are sorted the other way around (one file = one trace and multiple layers), you can set file_type=’trace’ in CompileDatabase(). Furthermore, if the depth is not given in meters but TWT, you should set the wave_speed (units should match values in the file) for conversion and firn_correction (meters):"
   ]
  },
  {
   "cell_type": "code",
   "execution_count": null,
   "id": "bcc6a001",
   "metadata": {},
   "outputs": [],
   "tags": ["remove-output"],
   "source": [
    "dir_path = './Wang_2023'\n",
    "compiler = CompileDatabase(dir_path, file_type='trace', wave_speed=0.1685, firn_correction=15.5)\n",
    "compiler.compile()"
   ]
  }
 ],
 "metadata": {
  "kernelspec": {
   "display_name": "processing",
   "language": "python",
   "name": "python3"
  },
  "language_info": {
   "codemirror_mode": {
    "name": "ipython",
    "version": 3
   },
   "file_extension": ".py",
   "mimetype": "text/x-python",
   "name": "python",
   "nbconvert_exporter": "python",
   "pygments_lexer": "ipython3",
   "version": "3.13.2"
  }
 },
 "nbformat": 4,
 "nbformat_minor": 5
}
