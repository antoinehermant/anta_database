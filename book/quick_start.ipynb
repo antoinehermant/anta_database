{
 "cells": [
  {
   "cell_type": "markdown",
   "id": "b0adf0bd",
   "metadata": {},
   "source": [
    "# Quick start"
   ]
  },
  {
   "cell_type": "markdown",
   "id": "af7d32e9",
   "metadata": {},
   "source": [
    "## Installation\n",
    "\n",
    "The Python module can be directly installed from [PyPI](https://pypi.org/project/anta-database/) with:"
   ]
  },
  {
   "cell_type": "raw",
   "id": "79a94e95",
   "metadata": {},
   "source": [
    "pip install anta_database"
   ]
  },
  {
   "cell_type": "markdown",
   "id": "5e3bd135",
   "metadata": {
    "lines_to_next_cell": 0
   },
   "source": [
    "\n",
    "This Python module is designed to query and visualized data in a AntADatabase folder. This folder has to be downloaded, contact me for access.\n",
    "You can already have a look at this guide to have an idea of the features of this tool.\n"
   ]
  },
  {
   "cell_type": "markdown",
   "id": "569f7583",
   "metadata": {},
   "source": [
    "## Browsing the database\n",
    "\n",
    "First, initialize the Database class by providing the full path to the AntADatabase:"
   ]
  },
  {
   "cell_type": "code",
   "execution_count": 1,
   "id": "a9b4e844",
   "metadata": {},
   "outputs": [],
   "source": [
    "from anta_database import Database\n",
    "\n",
    "db = Database('/home/anthe/documents/data/isochrones/AntADatabase/')"
   ]
  },
  {
   "cell_type": "markdown",
   "id": "772bf5c3",
   "metadata": {},
   "source": [
    "Use the query() function to browse the database. 'query()' without argument will return all metadata contained in the database:"
   ]
  },
  {
   "cell_type": "code",
   "execution_count": 2,
   "id": "76390663",
   "metadata": {},
   "outputs": [
    {
     "data": {
      "text/plain": [
       "Metadata from query:\n",
       "\n",
       "  - author:\n",
       "    Franke_2025\n",
       "    Beem_2021\n",
       "    Cavitte_2020\n",
       "    Mulvaney_2023\n",
       "    Wang_2023\n",
       "    Sanderson_2024\n",
       "    Winter_2018\n",
       "\n",
       "  - age:\n",
       "    4700 4800 7200 10000 10516 10700 11100 15400 16800 25600 29100 29300 30397 31400 36300 37600 38000 38100 39215 46600 47110 48000 51400 52200 62235 72500 73100 73400 74000 75160 75300 80007 81900 82646 90000 91000 93900 95500 97400 97667 108315 108600 122800 128542 128800 135600 159600 161000 162000 165200 166112 169100 199700 202334 219500 240397 253400 262159 278000 326168 326800 340400 345462 367800 381523 395802 400000 414644 420000 483000 516000 559000 610000 705000\n",
       "\n",
       "  - var:\n",
       "    BedElev\n",
       "    IceThk\n",
       "    SurfElev\n",
       "\n",
       "  - trace_id:\n",
       "    20231211_02_003 20131127_01 VCD_JKB2g_X11a EPICA_IV_12 19983207 20181226_01_007 19983457 19983206 AGAP_South_track IRH_20172040 HRB6-HRB7_proc2 HRA3-HRA5_proc2 BH15E-BH15M_proc2 20181227_02_012 OIA_JKB2n_Y72a EPICA_IV_22 SPC_GCX0e_X114a ROUTE4_proc2 SPC_GCX0d_X115a 20022106 20231211_02_014 20181226_01_008 19993105 20023153 20231129_01_004 ICP7_JKB2n_F17T01a SPC_GCX0e_Y98a BH42E-BH42B_proc2 EPICA_IV_23 BH30BB-BH30E_proc2 AV02E-AV02B_proc2 20013124 20033143 RAID2-DCR210-BH16B_proc2 20023110 OIA_JKB2n_X69a A67_DLRSAR_9MI 20231211_01_022 20231129_01_015 BH03E-RAID2_proc2 20181226_01_005 19972313 OIA_JKB2n_X63a HRB8-RAID2_proc2 20013123 20023102 19993136 OIA_JKB2n_Y90a BH43E-RAID2_proc2 20231211_01_021 20231211_02_009 20022112 IRH_20172028 BV42B-BV42E_proc2 IRH_20172043 OIA_JKB2n_Y77a 20023115 VCD_JKB2g_X13a 20231211_01_024 RAID2-BH32E_proc2 HRB7-HRB8 20013121 20023119 20023149 20181226_01_001 HRA1-HRA2 20181227_02_009 IRH_20172038 20033138 20231211_02_005 19972308 OIA_JKB2n_Y74a 20181227_03_005 BV38B-E_proc2 A64_DLRSAR_9MI ASB_JKB2h_GL0249a PNH13E-PNH13B_proc2 BH37E-BH37B_proc2 BH33B-BH33E_proc EPICA_IV_10 A10BDLRSAR_9MI_10 WSB_JKB2h_R40b BV34B-BV34E_proc2 IRH_20172049 BH24E-BH24B10_proc2 PNH11B-PNH11E_proc2 ASB_JKB1a_R11Ta HRA5-HRB6-2_proc2 20181227_02_008 20231211_02_007 V03E-2V03B OIA_JKB2n_Y52a BH07B-BH07E_proc2 20023148 IRH_20172032 20231211_02_008 20231211_02_015 20181226_02_009 19972406 OIA_JKB2n_Y82a 19993026 OIA_JKB2n_X39a 20231211_02_018 V18B-V18E IRH_20172029 DC_LDC_DIVIDE BV25E-RAID2_proc2 ASB_JKB1a_Y38a 20181226_01_006 20231211_01_014 HRB1-HRB2 SPC_GCX0e_Y85a BV34B-BV34E-2_proc2 IRH_20172041 EPICA_III_07 IRH_20172046 IRH_20172031 20181226_01_004 19993127 HRB4-HRB5_proc2 LINK_ROUTE_proc2 20181226_01_009 20231211_02_002 BH03BB-BH03E_proc2 DC_PNV09B_proc2 19983403 EPICA_VII_25 BH05E-BH05B_proc2 AV01B-AV01E_proc2 HRB2-HRB7-2_proc2 20173003 PNV01BTOE 20022115 BH13E-BH13B_proc2 EPICA_IV_11 PNH3B-PNH3E_proc2 20181227_03_001 SOUTH_PATCH_FLOW_LINE_proc2 DC_LDCRAID_proc2 20231211_01_018 SPC_GCX0e_Y89a 20231129_01_012 EPICA_VIII_22 HRA2-HRA3_proc2 BV48E-BV48B_proc2 BV25B5-BV25E_proc2 20231211_02_013 19993115 BH19E-BH19B_proc2 20231211_01_009 A68B_DLRSAR_9MI 20181227_02_014 20231203_04_006 SPC_GCX0d_Y79a 20083126 OIA_JKB2n_Y15a BH40B-BH40E_proc2 20022104 20231211_02_016 WSB_JKB2g_R35c 19993132 OIA_JKB2n_Y70b VCD_JKB1a_X08a OIA_JKB2n_Y68a 19983417 20181226_02_010 RAID-2V11E 20023120 ICP7_JKB2n_F16T04a EPICA_III_18 SPC_GCX0d_X112a A06CDLRSAR_9MI_clipped ASB_JKB1a_R09Ea 20013011 SPC_GCX0d_Y83a 20023105 19983418 BV11E-BV11B6_proc2 20231211_01_010 PNH5E-PNH5B_proc2 A08DLRSAR_9MI_3 19993104 BH36E-BH36B_proc2 20181227_02_010 HRB2-HRB3_proc2 BH45E-RAID2_proc PNV07ETOB RAID2-BH35B_proc2 20013010 A63_DLRSAR_9MI AV04E-AV04B_proc2 PNH1E-PNH1B_proc2 BH47E-BH47B_proc 20181226_01_010 19983253 VCD_JKB1a_X09a HRA5-HRA6_proc2 20231211_01_020 AV03B-AV03E_proc2 20023109 BV32B-BV32E_proc2 PNH15ETOB OIA_JKB2n_X54a 36_SKIP78_DBS5HZ 20231129_01_006 20231129_01_009 20181226_03_002 20053109 WEST_PATCH_FLOW_LINE_proc2 RAID2-BV11E_proc2 19983404 OIA_JKB2n_X72a PNH17B-PNH17E_proc2 PNV21B__ 20181227_02_007 20181226_03_001 20181227_02_001 19983402 20231211_02_004 19972206 19993137 20022107 19993116 PNH17BTOE 20181226_02_006 19972309 BV11B6-RAID2_proc2 BV26B-BV26E_proc2 20231129_01_020 BV17B5-BV17E_proc2 IRH_20172039 SPC_GCX0e_X125a 20231211_01_012 20231211_02_020 19983204 19972405 SPC_GCX0e_Y93a 20181222_01_001 EPICA_II_08 20023154 20181222_01_004 20231129_01_016 10BDLRSAR_9MI_10 20231211_01_015 HRA4-HRA6_proc2 MCM_JKB1a_WLKX01a 20113119 P09A_PPVV_L4_NS1536_SKIP78_DBS5HZ A65B_DLRSAR_9MI 20181227_02_006 BH28E-BH28BB_proc2 PNH1B-DC_proc2 SPC_GCX0e_X120a HRA3-HRA4_proc2 19993112 OIA_JKB2n_Y25a 20231211_01_017 19983254 19993033 20032137 ICP4_JKB2g_F19T03a 2V23B-2V23E 11ADLRSAR_9MI_11 BV15E-BV15B5_proc2 OIA_JKB2n_Y75a 19993131 EPICA_VIII_23 20033141 19983205 ASB_JKB1a_R08Ec 19972408 20231129_01_017 EPICA_VI_35 RAID2-BH36E_proc2 20231211_02_012 20181226_03_004 LDC-DC-PANO_proc2 ASB_JKB1a_R11Ea 20231211_02_021 20231204_01_010 BV13B5-BV13E_proc2 20181227_02_005 2H25E-H25B DoCo_2007_08_07 SPC_GCX0d_Y87a ICP7_JKB2n_EDMC02a SPC_GCX0e_SPICE1a OIA_JKB2n_Y81a ICP7_JKB2n_F12T01b AV05B-AV05E_proc2 20181226_01_013 OIA_JKB2n_Y86a BH41E-BH41B_proc2 HRB5-HRB2-2_proc2 GPS_FLOW_LINE_proc2 BH21B-BH21E_proc2 MCM_JKB1a_EDMC01a H42B-2H42E BH32E-BH32B10_proc2 HRB1-HRB2_proc2 BV21B5-BV21E_proc2 BH18B-BH18E_proc2 EPICA_II_04 20181227_02_011 20231211_02_010 19983407 19983202 IRH_20172050 HRA6-RAID2_proc2 19993118 OIA_JKB2n_Y79a 20231211_02_019 OIA_JKB2n_X48a IRH_20172048 RAID2-BV48E_proc2 BV52E-BV52B_proc WEGAS_2010_11_33 BH39B-BH39E_proc2 20231129_01_007 20173004 HRB7-SUBCAMP_proc2 PNV19___ 20181222_01_006 ASB_JKB1a_R09Ta 2V02E-RAID 20053107 19983101 ASB_JKB2e_LKC01a A07C_DLRSAR_9MI PNV15___ 20023152 HRB8-RAID2 20181227_02_002 BV23E-BV23B5_proc2 20181227_01_001 OIA_JKB2n_Y80a 19972402 20013122 PNV13___ 20231211_01_019 19983201 IRH_20172045 19983416 20181226_01_012 PNV03ETOB HRA1-HRA2_proc2 20181227_03_004 20231129_01_014 P34A_PS2_L4_NS1536_SKIP78_DBS5HZ_04 BV27E-BV27B_proc2 DMC_JKB1a_ATAL01e 20181226_03_003 19972307 19983408 BH11B-BH11E_proc2 HRA7-HRA8_proc2 PNV21B-DC_proc2 PNH9E-PNH9B_proc2 BH26BB-BH26E_proc2 20181227_03_003 19972303 19983102 20231211_02_011 20231129_01_011 2V10E-2V11B RAID2-BH01B_proc2 20181227_02_015 ASB_JKB1a_R10Wa 20181227_03_008 20231129_01_008 HRB7-HRB8_proc2 EPICA_IV_15 BH38E-BH38B_proc2 BV36E-B_proc2 DC-LDCRAID2_proc2 OIA_JKB2n_Y88a OIA_JKB2n_Y76a 20181226_02_004 PNH21BTOE 20023111 A09A_DLRSAR_9MI 20231129_01_013 BH01E-BH01B_proc2 BH24B10-RAID2_proc2 20231211_01_006 20231211_02_017 20023150 19993110 20181226_01_002 19993120 ASB_JKB1a_R09Wa 19993134 20173002 BV46B-E_proc2 BH17M-BH17E_proc2 20181222_01_002 19973310 PNH15B-DC_proc2 20181227_02_004 20181227_03_007 P26A_PS2_L4_NS1536_SKIP78_DBS5HZ 20231129_01_010 A66_DLRSAR_9MI EPICA_II_10 20231129_01_005 PNH19ETOB 20231211_01_007 OIA_JKB2n_Y60a HRB6-HRB3-2_proc2 IRH_20172026 20181226_01_003 LDCCAT-SUBCAMP_proc2 PNV05BTOE H42B-2H42E_proc2 PNV17___ SPC_GCX0d_Y75a A11ADLRSAR_9MI_11 BH39B-BH39E A07B_DLRSAR_9MI 20231211_01_023 20022116 19972304 OIA_JKB2n_X60a 19993113 DoCo_2007_08_08 19973210 19993122 19972415 EPICA_VII_27 19993109 19983208 IRH_20172025 EPICA_VI_34 VCD_JKB2g_X08b PNH7B-PNH7E_proc2 EPICA_IV_21 BH34E-BH34B10_proc2 PNV11___ OIA_JKB2n_X57a IRH_20172052 A65D_DLRSAR_9MI EPICA_VII_26 OIA_JKB2n_Y84a 20033139 ICP7_JKB2n_RIDGE1a P24A_PS2_L4_NS1536_SKIP78_DBS5HZ A64E_DLRSAR_9MI IRH_20172051 DoCo_2007_08_12 VCD_JKB2g_DVD01a 19983401 RAID2-BV28B_proc2 A64B_DLRSAR_9MI BH03B-BH03E_proc2 20231211_02_001 BV44E-BV44B_proc2 RAID2-BH01E_proc2 20231211_01_016 IRH_20172027 20013012 CAT-ROUTE-DC_proc2 BV19E-BV19B5_proc2 20181222_01_005 AV01E-RAID1_proc2 20231211_01_013 20231211_01_008 20181226_01_011 BV28B-BV28E_proc2 OIA_JKB2n_Y64a BH43B-BH43E_proc2 BH31E-BH31B_proc BH01B-BH01BB_Proc2 WSB_JKB1a_R38a 20231129_01_018 BV26E-RAID2_proc2 OIA_JKB2n_X45a 19983406 DoCo_2007_08_10 EPICA_IV_24 20231211_01_011 19993135 19972404 20023151 20181227_03_002 19993106 OIA_JKB2n_Y78a 19993107 ASB_JKB1a_R11Wa BH45B-BH45E_proc 19972409 2H30E-H30B 20181226_02_002 19983256 BV30E-BV30B_proc2 RAID2-BH21B_proc2 BV50B-BV50E_proc OIA_JKB2n_X66a WSB_JKB1a_R36a RSAR_9MI_clipped 20181226_02_008 20231211_02_006 ROUTE5_proc2 IRH_20172030 BV40E-BV40B_proc2 SPC_GCX0e_X122a RAID2-BV42B_proc2 IRH_20172047 DoCo_2007_08_13 IRH_20172044 WSB_JKB2g_R34a BH09E-BH09B_proc2\n",
       "\n",
       "  - reference:\n",
       "    Franke et al. (2025)\n",
       "    Beem et al. (2021)\n",
       "    Cavitte et al. (2020)\n",
       "    Mulvaney et al. (2023)\n",
       "    Wang et al. (2023)\n",
       "    Sanderson et al. (2024)\n",
       "    Winter et al. (2018)\n",
       "\n",
       "  - DOIs:\n",
       "    https://doi.org/10.1594/PANGAEA.973266\n",
       "    https://doi.org/10.15784/601437\n",
       "    https://doi.org/10.15784/601411\n",
       "    https://doi.pangaea.de/10.1594/PANGAEA.963470\n",
       "    https://doi.org/10.1594/PANGAEA.958462\n",
       "    https://doi.org/10.5285/cfafb639-991a-422f-9caa-7793c195d316\n",
       "    https://doi.org/10.1594/PANGAEA.895528\n",
       "\n",
       "  - database: /home/anthe/documents/data/isochrones/AntADatabase//AntADatabase.db\n",
       "  - query params: {'age': None, 'var': None, 'author': None, 'trace_id': None}"
      ]
     },
     "execution_count": 2,
     "metadata": {},
     "output_type": "execute_result"
    }
   ],
   "source": [
    "db.query()"
   ]
  },
  {
   "cell_type": "markdown",
   "id": "04df4d7e",
   "metadata": {},
   "source": [
    "The query() function takes as argument:\n",
    "- author: author(s) of the datasets of interest\n",
    "- age: age(s) in yrs before present of the layer(s) of interest\n",
    "- var: variables(s) other than age depth such as 'IceThk', 'SurfElev' or 'BedElev'\n",
    "- trace_id: ID of a particular trace. This is useful for explicit trace IDs such as 'DC_LDC_DIVIDE'\n",
    "\n",
    "One can also combine field queries as well as providing lists. Here are a few examples:"
   ]
  },
  {
   "cell_type": "code",
   "execution_count": null,
   "id": "cfb886fd",
   "metadata": {},
   "outputs": [],
   "source": [
    "#Examples of queries:\n",
    "db.query(author='Cavitte_2020') # all data from Cavitte et al. 2020\n",
    "db.query(age='38100') # all datasets with the 38.1ka isochrone\n",
    "db.query(var='IceThk') # all datasets with IceThk variable\n",
    "db.query(trace_id='DC_LDC_DIVIDE') # all layers with the trace ID DC_LDC_DIVIDE\n",
    "db.query(author=['Franke_2025', 'Winter_2018'], age='38100') # example of multiple criteria"
   ]
  },
  {
   "cell_type": "markdown",
   "id": "d78d3494",
   "metadata": {},
   "source": [
    "## Visualization\n",
    "\n",
    "Use the results of the query in the plotting functions:"
   ]
  },
  {
   "cell_type": "code",
   "execution_count": null,
   "id": "db686694",
   "metadata": {},
   "outputs": [],
   "source": [
    "results = db.query(age=['38100','38000'])\n",
    "db.plotXY(results,\n",
    "                downscale_factor=1000, # downscale the datasets n times, which makes no visual difference but it is much lighter\n",
    "                title='AntArchitecture 38(.1)ka layer',\n",
    "                xlim=(-500, 2400), ylim=(-2200, 2200), # set the plot extent in km\n",
    "                scale_factor=0.5, # adjust the size of the plot\n",
    "                latex=True, # use latex compilers for plotting if you have them installed on your system\n",
    "                # save='AntA_38ka.pdf', # Uncomment to save the figure, otherwise it we visualize with pyplot\n",
    "                )"
   ]
  },
  {
   "cell_type": "markdown",
   "id": "72901b89",
   "metadata": {},
   "source": [
    "## Generate data from the database\n",
    "\n",
    "Note: This part could be developed further in the future if there is the need. But for now, I am designing a separate Python module for constraining my ice sheet model of use, which is tailored to this database and other parallel processing libraries.\n",
    "\n",
    "The data_generator() function reads the query and 'yield' the dataframes for later use.\n",
    "Here is a quick example of how this can be used for computing the mean layer depth:"
   ]
  },
  {
   "cell_type": "code",
   "execution_count": null,
   "id": "11fef518",
   "metadata": {},
   "outputs": [
    {
     "name": "stdout",
     "output_type": "stream",
     "text": [
      "The mean depth of the 38ka isochrone across East Antarctica is 1127.89 m ranging from 313.34 m to 2213.46 m.\n"
     ]
    }
   ],
   "source": [
    "results = db.query(age=['38100'])\n",
    "lazy_dfs = db.data_generator()\n",
    "\n",
    "import numpy as np\n",
    "mean_depth_trs = []\n",
    "min_depth = float('inf')\n",
    "max_depth = float('-inf')\n",
    "for df, md in lazy_dfs:\n",
    "    depth_values = df[md['age']]\n",
    "    mean_depth_trs.append(np.mean(depth_values))\n",
    "    min_depth = min(min_depth, min(depth_values))\n",
    "    max_depth = max(max_depth, max(depth_values))\n",
    "\n",
    "\n",
    "mean_depth = np.mean(mean_depth_trs)\n",
    "std_dev = np.std(mean_depth_trs, ddof=1)\n",
    "print(f\"The mean depth of the 38ka isochrone across East Antarctica is {round(mean_depth, 2)} m ranging from {round(min_depth, 2)} m to {round(max_depth, 2)} m.\")"
   ]
  },
  {
   "cell_type": "markdown",
   "id": "876911e9",
   "metadata": {},
   "source": [
    "In the for loop, 'df' is an individual dataframe from the database, corresponding to a single layer of a single trace from a single dataset. The 'md' stores the unique metadata from the current 'df'. One can then associate the metadata with the current df, for example:"
   ]
  },
  {
   "cell_type": "code",
   "execution_count": null,
   "id": "a3c82128",
   "metadata": {},
   "outputs": [],
   "source": [
    "results = db.query(author='Cavitte_2020', trace_id='DC_LDC_DIVIDE')\n",
    "lazy_dfs = db.data_generator(results)\n",
    "\n",
    "import matplotlib.pyplot as plt\n",
    "# from matplotlib import rc\n",
    "# rc('font', **{'family': 'serif', 'serif': ['Computer Modern']})\n",
    "# rc('text', usetex=True) # Do you use latex?\n",
    "\n",
    "for df, md in lazy_dfs:\n",
    "    if md['age'] is not None:\n",
    "        plt.plot(df.distance/1000, df[md['age']], label=md['age'])\n",
    "    if md['var'] == 'IceThk':\n",
    "        plt.plot(df.distance/1000, df['IceThk'], linewidth=2, color='k', label='Bedrock')\n",
    "\n",
    "plt.legend(ncol=2)\n",
    "plt.xlabel('Distance (km)')\n",
    "plt.ylabel('Depth (m)')\n",
    "plt.ylim(4000, 0)\n",
    "plt.title('Isochronal structure along DC_LDC_DIVIDE transect')\n",
    "plt.show()"
   ]
  },
  {
   "cell_type": "markdown",
   "id": "db8939d3",
   "metadata": {},
   "source": [
    "### Downscale the data\n",
    "\n",
    "The downscale_factor argument in the data_generator reduces the size of the generated data by n times. This is useful when dealing with large data where the downscaling has a neglectable influence on the results.\n",
    "Another solution, probably more straightforward, is the downsample_distance option, which allows to provide a distance in meters by which the data should be average along the transects:"
   ]
  },
  {
   "cell_type": "code",
   "execution_count": null,
   "id": "4cea2a1e",
   "metadata": {},
   "outputs": [],
   "source": [
    "import matplotlib.pyplot as plt\n",
    "\n",
    "results = db.query(author='Cavitte_2020', age='278000', trace_id='DC_LDC_DIVIDE')\n",
    "original = db.data_generator(results)\n",
    "downscale_10 = db.data_generator(results, downscale_factor=100)\n",
    "downsampled_by_distance = db.data_generator(results, downsample_distance=5000)\n",
    "\n",
    "list = [original, downscale_10, downsampled_by_distance]\n",
    "labels = ['original', 'downscale 100', 'downsample 5km']\n",
    "\n",
    "for i, lazy_dfs in enumerate(list):\n",
    "    for df, md in lazy_dfs:\n",
    "        plt.plot(df.distance, df['278000'],label=labels[i], linestyle='--')\n",
    "\n",
    "plt.ylim(3000, 0)\n",
    "plt.xlabel('Distance along DC_LDC_DIVIDE (km)')\n",
    "plt.ylabel('Depth (m)')\n",
    "plt.legend()\n",
    "plt.title('Different downscaling methods for Cavitte 2020 278ka along DC_LDC_DIVIDE')\n",
    "plt.show()"
   ]
  }
 ],
 "metadata": {
  "kernelspec": {
   "display_name": "processing",
   "language": "python",
   "name": "python3"
  },
  "language_info": {
   "codemirror_mode": {
    "name": "ipython",
    "version": 3
   },
   "file_extension": ".py",
   "mimetype": "text/x-python",
   "name": "python",
   "nbconvert_exporter": "python",
   "pygments_lexer": "ipython3",
   "version": "3.13.2"
  }
 },
 "nbformat": 4,
 "nbformat_minor": 5
}
